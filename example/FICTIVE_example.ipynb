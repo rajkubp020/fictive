{
 "cells": [
  {
   "cell_type": "code",
   "execution_count": null,
   "metadata": {},
   "outputs": [
    {
     "name": "stdout",
     "output_type": "stream",
     "text": [
      "Collecting git+https://github.com/rajkubp020/fictive.git\n",
      "  Cloning https://github.com/rajkubp020/fictive.git to /private/var/folders/lr/nz97z6_j08dczl22nstvzvqh0000gn/T/pip-req-build-aem8qssk\n",
      "Requirement already satisfied: matplotlib in /opt/anaconda3/lib/python3.7/site-packages (from fictive==1.1.1) (3.3.2)\n",
      "Requirement already satisfied: scipy in /opt/anaconda3/lib/python3.7/site-packages (from fictive==1.1.1) (1.5.2)\n",
      "Requirement already satisfied: numpy in /opt/anaconda3/lib/python3.7/site-packages (from fictive==1.1.1) (1.19.2)\n",
      "Requirement already satisfied: kiwisolver>=1.0.1 in /opt/anaconda3/lib/python3.7/site-packages (from matplotlib->fictive==1.1.1) (1.3.0)\n",
      "Requirement already satisfied: pyparsing!=2.0.4,!=2.1.2,!=2.1.6,>=2.0.3 in /opt/anaconda3/lib/python3.7/site-packages (from matplotlib->fictive==1.1.1) (2.4.7)\n",
      "Requirement already satisfied: pillow>=6.2.0 in /opt/anaconda3/lib/python3.7/site-packages (from matplotlib->fictive==1.1.1) (8.0.1)\n",
      "Requirement already satisfied: python-dateutil>=2.1 in /opt/anaconda3/lib/python3.7/site-packages (from matplotlib->fictive==1.1.1) (2.8.1)\n",
      "Requirement already satisfied: cycler>=0.10 in /opt/anaconda3/lib/python3.7/site-packages (from matplotlib->fictive==1.1.1) (0.10.0)\n",
      "Requirement already satisfied: certifi>=2020.06.20 in /opt/anaconda3/lib/python3.7/site-packages (from matplotlib->fictive==1.1.1) (2020.12.5)\n",
      "Requirement already satisfied: six in /opt/anaconda3/lib/python3.7/site-packages (from cycler>=0.10->matplotlib->fictive==1.1.1) (1.15.0)\n"
     ]
    }
   ],
   "source": [
    "import sys\n",
    "import numpy as np\n",
    "import pandas as pd\n",
    "import sys\n",
    "import os\n",
    "!{sys.executable} -m pip install git+https://github.com/rajkubp020/fictive.git\n",
    "%matplotlib inline\n",
    "\n",
    "import fictive\n",
    "from fictive import *\n",
    "\n",
    "from sklearn import linear_model\n",
    "from sklearn import linear_model\n",
    "x=pd.read_csv('./cc.csv')\n",
    "x.columns.tolist()\n",
    "\n",
    "fig, [ax] = panel(1,1)\n",
    "xlabel(r'Size of ring  ')\n",
    "ylabel('Normalized frequency ')\n",
    "#beautify_leg(ax)\n",
    "plt.plot(x['Unnamed: 0'],x[' Number'],'o-b', lw=2.5,label='Pristine 12B',ms=12)\n",
    "plt.legend(fontsize=25)\n",
    "legend_on(ax=ax)\n",
    "plt.legend(loc=3)\n",
    "plt.savefig('./fictive.png'.format(83),dpi=300,bbox_inches='tight')\n",
    "plt.show()"
   ]
  },
  {
   "cell_type": "code",
   "execution_count": null,
   "metadata": {},
   "outputs": [],
   "source": []
  }
 ],
 "metadata": {
  "kernelspec": {
   "display_name": "Python 3",
   "language": "python",
   "name": "python3"
  },
  "language_info": {
   "codemirror_mode": {
    "name": "ipython",
    "version": 3
   },
   "file_extension": ".py",
   "mimetype": "text/x-python",
   "name": "python",
   "nbconvert_exporter": "python",
   "pygments_lexer": "ipython3",
   "version": "3.7.9"
  }
 },
 "nbformat": 4,
 "nbformat_minor": 4
}
